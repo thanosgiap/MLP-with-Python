{
  "nbformat": 4,
  "nbformat_minor": 0,
  "metadata": {
    "colab": {
      "provenance": [],
      "authorship_tag": "ABX9TyP+AY2HJ8EbUvth0FrGsE9c",
      "include_colab_link": true
    },
    "kernelspec": {
      "name": "python3",
      "display_name": "Python 3"
    },
    "language_info": {
      "name": "python"
    },
    "accelerator": "GPU",
    "gpuClass": "standard"
  },
  "cells": [
    {
      "cell_type": "markdown",
      "metadata": {
        "id": "view-in-github",
        "colab_type": "text"
      },
      "source": [
        "<a href=\"https://colab.research.google.com/github/thanosgiap/MLP-with-Python/blob/main/NeuralNetworksProject2.ipynb\" target=\"_parent\"><img src=\"https://colab.research.google.com/assets/colab-badge.svg\" alt=\"Open In Colab\"/></a>"
      ]
    },
    {
      "cell_type": "code",
      "execution_count": null,
      "metadata": {
        "colab": {
          "base_uri": "https://localhost:8080/",
          "height": 157
        },
        "id": "t45dSXIhU1J_",
        "outputId": "a5db87e1-0f70-4c8b-a755-87bcbd81f888"
      },
      "outputs": [
        {
          "output_type": "stream",
          "name": "stdout",
          "text": [
            "Downloading data from https://storage.googleapis.com/tensorflow/tf-keras-datasets/mnist.npz\n",
            "11490434/11490434 [==============================] - 0s 0us/step\n"
          ]
        },
        {
          "output_type": "execute_result",
          "data": {
            "text/plain": [
              "'\\ndef evaluation(X_train, y_train, X_eval, y_eval):\\n  test_acc = []\\n  training_acc = []\\n  coefficient = []\\n  for c in [0.0001,0.001,0.01,0.1,1,10,100,1000,10000]:\\n    svm = LinearSVC(dual=False, C=c)\\n    svm.fit(X_train, y_train)\\n    coef = svm.coef_\\n\\n    acc_tr = accuracy_score(y_train, svm.predict(X_train))\\n\\n    acc_pred = accuracy_score(y_eval, svm.predict(X_eval))\\n\\n    coefficient.append(coef)\\n    training_acc.append(acc_tr)\\n    test_acc.append(acc_pred)\\n\\n  c = [0.0001,0.001,0.01,0.1,1,10,100,1000,10000]\\n  plt.subplots(figsize=(10, 5))\\n  plt.semilogx(c, test_acc,\\'-gD\\' ,color=\\'red\\' , label=\"Testing Accuracy\")\\n  plt.semilogx(c, training_acc,\\'-gD\\' , label=\"Training Accuracy\")\\n  plt.grid(True)\\n  plt.xlabel(\"Cost Parameter C\")\\n  plt.ylabel(\"Accuracy\")\\n  plt.legend()\\n  plt.title(\\'Accuracy versus the Cost Parameter C (log-scale)\\')\\n  plt.show()\\n\\nevaluation(X_train, y_train, X_eval, y_eval)\\n'"
            ],
            "application/vnd.google.colaboratory.intrinsic+json": {
              "type": "string"
            }
          },
          "metadata": {},
          "execution_count": 1
        }
      ],
      "source": [
        "from tensorflow.keras.datasets import mnist\n",
        "import numpy as np\n",
        "from sklearn.model_selection import train_test_split\n",
        "from tensorflow.keras.utils import to_categorical, plot_model\n",
        "from numpy import loadtxt\n",
        "from sklearn.model_selection import KFold\n",
        "from sklearn.metrics import confusion_matrix\n",
        "from tensorflow import keras\n",
        "import matplotlib.pyplot as plt\n",
        "from sklearn.model_selection import ParameterGrid\n",
        "from sklearn.svm import SVC, LinearSVC\n",
        "from sklearn.metrics import classification_report\n",
        "from sklearn.metrics import accuracy_score\n",
        "from sklearn.metrics import precision_score\n",
        "from sklearn.metrics import recall_score\n",
        "from sklearn.metrics import f1_score\n",
        "\n",
        "#Athanasios Giapoutzis AEM: 3589\n",
        "\n",
        "#Load Data\n",
        "(train_images, train_labels), (test_images, test_labels) = mnist.load_data()\n",
        "\n",
        "#Reshaping data\n",
        "train_images = np.reshape(train_images, (-1, 784))\n",
        "test_images = np.reshape(test_images, (-1, 784))\n",
        "\n",
        "#Normalizing to avoid high gradient values\n",
        "train_images = train_images.astype('float32') / 255\n",
        "test_images = test_images.astype('float32') / 255\n",
        "\n",
        "#Split train and test for evaluating purposes\n",
        "X_train, X_eval, y_train, y_eval = train_test_split(train_images, train_labels, train_size=0.7, stratify=train_labels)\n",
        "\n",
        "#Defining the model and fitting\n",
        "svm = SVC(kernel='poly', C=1, degree=2)\n",
        "svm.fit(train_images, train_labels)\n",
        "\n",
        "\"\"\"\n",
        "#Calculating training and testing accuracy\n",
        "traccuracy = accuracy_score(train_labels, svm.predict(train_images))\n",
        "\n",
        "testaccuracy = accuracy_score(test_labels, svm.predict(test_images))\n",
        "\n",
        "#Classification report for extra feedback\n",
        "cr = classification_report(test_labels, svm.predict(test_images))\n",
        "print(cr)\n",
        "\"\"\"\n",
        "\n",
        "#Function used to test different variable values, kernels etc.\n",
        "\"\"\"\n",
        "def evaluation(X_train, y_train, X_eval, y_eval):\n",
        "  test_acc = []\n",
        "  training_acc = []\n",
        "  coefficient = []\n",
        "  for c in [0.0001,0.001,0.01,0.1,1,10,100,1000,10000]:\n",
        "    svm = LinearSVC(dual=False, C=c)\n",
        "    svm.fit(X_train, y_train)\n",
        "    coef = svm.coef_\n",
        "\n",
        "    acc_tr = accuracy_score(y_train, svm.predict(X_train))\n",
        "\n",
        "    acc_pred = accuracy_score(y_eval, svm.predict(X_eval))\n",
        "\n",
        "    coefficient.append(coef)\n",
        "    training_acc.append(acc_tr)\n",
        "    test_acc.append(acc_pred)\n",
        "\n",
        "  c = [0.0001,0.001,0.01,0.1,1,10,100,1000,10000]\n",
        "  plt.subplots(figsize=(10, 5))\n",
        "  plt.semilogx(c, test_acc,'-gD' ,color='red' , label=\"Testing Accuracy\")\n",
        "  plt.semilogx(c, training_acc,'-gD' , label=\"Training Accuracy\")\n",
        "  plt.grid(True)\n",
        "  plt.xlabel(\"Cost Parameter C\")\n",
        "  plt.ylabel(\"Accuracy\")\n",
        "  plt.legend()\n",
        "  plt.title('Accuracy versus the Cost Parameter C (log-scale)')\n",
        "  plt.show()\n",
        "\n",
        "evaluation(X_train, y_train, X_eval, y_eval)\n",
        "\"\"\"\n",
        "\n",
        "\n",
        "\n",
        "\n"
      ]
    }
  ]
}